{
 "cells": [
  {
   "cell_type": "code",
   "execution_count": 35,
   "metadata": {},
   "outputs": [],
   "source": [
    "import dspy\n",
    "import os\n",
    "import toml\n",
    "import sys\n",
    "\n",
    "def load_api_key(toml_file_path):\n",
    "    try:\n",
    "        with open(toml_file_path, \"r\") as file:\n",
    "            data = toml.load(file)\n",
    "    except FileNotFoundError:\n",
    "        print(f\"File not found: {toml_file_path}\", file=sys.stderr)\n",
    "        return\n",
    "    except toml.TomlDecodeError:\n",
    "        print(f\"Error decoding TOML file: {toml_file_path}\", file=sys.stderr)\n",
    "        return\n",
    "    # Set environment variables\n",
    "    for key, value in data.items():\n",
    "        os.environ[key] = str(value)"
   ]
  },
  {
   "cell_type": "markdown",
   "metadata": {},
   "source": [
    "## Load a Bedrock Model"
   ]
  },
  {
   "cell_type": "code",
   "execution_count": 62,
   "metadata": {},
   "outputs": [],
   "source": [
    "#Uses aws credentials from aws cli\n",
    "bedrock = dspy.Bedrock(region_name=\"us-east-1\")\n",
    "\n",
    "model_kwargs =  { \n",
    "        \"max_tokens\": 256,\n",
    "        \"temperature\": 1.0,\n",
    "        \"top_k\": 50,\n",
    "        \"top_p\": 0.9\n",
    "    }\n",
    "\n",
    "lm = dspy.AWSAnthropic(bedrock, \"anthropic.claude-3-5-sonnet-20240620-v1:0\", **model_kwargs)"
   ]
  },
  {
   "cell_type": "markdown",
   "metadata": {},
   "source": [
    "## Load GPT4"
   ]
  },
  {
   "cell_type": "code",
   "execution_count": 48,
   "metadata": {},
   "outputs": [],
   "source": [
    "load_api_key(\"secrets.toml\")\n",
    "\n",
    "openai_kwargs = {\n",
    "            \"api_key\": os.getenv(\"OPENAI_API_KEY\"),\n",
    "            \"api_provider\": \"openai\",\n",
    "            \"temperature\": 1.0,\n",
    "            \"top_p\": 0.9,\n",
    "            \"api_base\": None,\n",
    "        }\n",
    "\n",
    "gpt4 = dspy.OpenAI(model='gpt-4o', max_tokens = 200, **openai_kwargs)"
   ]
  },
  {
   "cell_type": "code",
   "execution_count": 52,
   "metadata": {},
   "outputs": [],
   "source": [
    "dspy.configure(lm=lm)"
   ]
  },
  {
   "cell_type": "markdown",
   "metadata": {},
   "source": [
    "## Sentence Classification : Inline Signature"
   ]
  },
  {
   "cell_type": "code",
   "execution_count": 56,
   "metadata": {},
   "outputs": [],
   "source": [
    "sentence = \"What a gloomy day\""
   ]
  },
  {
   "cell_type": "code",
   "execution_count": 57,
   "metadata": {},
   "outputs": [
    {
     "name": "stdout",
     "output_type": "stream",
     "text": [
      "Sentence: What a gloomy day\n",
      "Sentiment: Negative\n",
      "\n",
      "The sentiment of this sentence is negative because:\n",
      "1. The word \"gloomy\" has a negative connotation, typically associated with darkness, sadness, or depression.\n",
      "2. The overall tone of the sentence expresses dissatisfaction or disappointment with the day's atmosphere.\n",
      "3. There are no positive words or phrases to counterbalance the negative sentiment conveyed by \"gloomy.\"\n"
     ]
    }
   ],
   "source": [
    "classify = dspy.Predict(\"sentence -> sentiment\")\n",
    "print(classify(sentence=sentence).sentiment)"
   ]
  },
  {
   "cell_type": "markdown",
   "metadata": {},
   "source": [
    "## Sentence Classification : Class-based"
   ]
  },
  {
   "cell_type": "code",
   "execution_count": 61,
   "metadata": {},
   "outputs": [
    {
     "name": "stdout",
     "output_type": "stream",
     "text": [
      "Sentence: I started feeling a bit vulnerable when the giant spotlight started blinding me\n",
      "The classified emotion is : fear\n"
     ]
    }
   ],
   "source": [
    "class Emotion(dspy.Signature):\n",
    "\t\"\"\"Classify emotion among sadness, joy, love, anger, fear, surprise without an explanation\"\"\"\n",
    "\n",
    "\tsentence = dspy.InputField()\n",
    "\tsentiment = dspy.OutputField(prefix=\"The classified emotion is :\")\n",
    "\n",
    "sentence = \"I started feeling a bit vulnerable when the giant spotlight started blinding me\"\n",
    "\n",
    "classify = dspy.Predict(Emotion)\n",
    "print(classify(sentence=sentence).sentiment)"
   ]
  },
  {
   "cell_type": "code",
   "execution_count": null,
   "metadata": {},
   "outputs": [],
   "source": []
  }
 ],
 "metadata": {
  "kernelspec": {
   "display_name": "storm",
   "language": "python",
   "name": "python3"
  },
  "language_info": {
   "codemirror_mode": {
    "name": "ipython",
    "version": 3
   },
   "file_extension": ".py",
   "mimetype": "text/x-python",
   "name": "python",
   "nbconvert_exporter": "python",
   "pygments_lexer": "ipython3",
   "version": "3.11.9"
  }
 },
 "nbformat": 4,
 "nbformat_minor": 2
}
